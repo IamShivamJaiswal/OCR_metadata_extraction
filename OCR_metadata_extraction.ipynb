{
  "nbformat": 4,
  "nbformat_minor": 0,
  "metadata": {
    "colab": {
      "name": "OCR_metadata_extraction.ipynb",
      "provenance": [],
      "authorship_tag": "ABX9TyOtt1ZznI7u6PKRUThw+htj",
      "include_colab_link": true
    },
    "kernelspec": {
      "name": "python3",
      "display_name": "Python 3"
    },
    "accelerator": "GPU"
  },
  "cells": [
    {
      "cell_type": "markdown",
      "metadata": {
        "id": "view-in-github",
        "colab_type": "text"
      },
      "source": [
        "<a href=\"https://colab.research.google.com/github/IamShivamJaiswal/OCR_metadata_extraction/blob/master/OCR_metadata_extraction.ipynb\" target=\"_parent\"><img src=\"https://colab.research.google.com/assets/colab-badge.svg\" alt=\"Open In Colab\"/></a>"
      ]
    },
    {
      "cell_type": "markdown",
      "metadata": {
        "id": "sggMhFD133K9",
        "colab_type": "text"
      },
      "source": [
        "## Install Tesseract for unix system"
      ]
    },
    {
      "cell_type": "code",
      "metadata": {
        "id": "1nrwgfJm1hvz",
        "colab_type": "code",
        "outputId": "d7b3b6db-1c07-4547-c1d6-4ae6e858ed4f",
        "colab": {
          "base_uri": "https://localhost:8080/",
          "height": 153
        }
      },
      "source": [
        "!apt install tesseract-ocr"
      ],
      "execution_count": 1,
      "outputs": [
        {
          "output_type": "stream",
          "text": [
            "Reading package lists... Done\n",
            "Building dependency tree       \n",
            "Reading state information... Done\n",
            "tesseract-ocr is already the newest version (4.00~git2288-10f4998a-2).\n",
            "The following package was automatically installed and is no longer required:\n",
            "  libnvidia-common-430\n",
            "Use 'apt autoremove' to remove it.\n",
            "0 upgraded, 0 newly installed, 0 to remove and 7 not upgraded.\n"
          ],
          "name": "stdout"
        }
      ]
    },
    {
      "cell_type": "markdown",
      "metadata": {
        "id": "JKD65R8i39v3",
        "colab_type": "text"
      },
      "source": [
        "## Install pytesseract"
      ]
    },
    {
      "cell_type": "code",
      "metadata": {
        "id": "QLCoAHwa0o9z",
        "colab_type": "code",
        "outputId": "f478adb9-35d6-485b-d24b-f22cc74defc6",
        "colab": {
          "base_uri": "https://localhost:8080/",
          "height": 51
        }
      },
      "source": [
        "!pip install pytesseract"
      ],
      "execution_count": 2,
      "outputs": [
        {
          "output_type": "stream",
          "text": [
            "Requirement already satisfied: pytesseract in /usr/local/lib/python3.6/dist-packages (0.3.1)\n",
            "Requirement already satisfied: Pillow in /usr/local/lib/python3.6/dist-packages (from pytesseract) (6.2.2)\n"
          ],
          "name": "stdout"
        }
      ]
    },
    {
      "cell_type": "markdown",
      "metadata": {
        "id": "4F5n5BZX4bd3",
        "colab_type": "text"
      },
      "source": [
        "## Import library"
      ]
    },
    {
      "cell_type": "code",
      "metadata": {
        "id": "LXgrZA6Y0mT9",
        "colab_type": "code",
        "colab": {}
      },
      "source": [
        "import pytesseract\n",
        "from PIL import Image\n",
        "import cv2\n",
        "import matplotlib.image as mimg\n",
        "import matplotlib.pyplot as plt\n",
        "import numpy as np\n",
        "import math\n",
        "from tqdm import tqdm\n",
        "import pandas as pd"
      ],
      "execution_count": 0,
      "outputs": []
    },
    {
      "cell_type": "markdown",
      "metadata": {
        "id": "f4SRr_INFh-G",
        "colab_type": "text"
      },
      "source": [
        "## Download the test images"
      ]
    },
    {
      "cell_type": "code",
      "metadata": {
        "id": "wshBk40k-jtC",
        "colab_type": "code",
        "outputId": "92c1f1c0-d1dd-4c27-88b8-3f7b7eebca72",
        "colab": {
          "base_uri": "https://localhost:8080/",
          "height": 391
        }
      },
      "source": [
        "!wget https://raw.githubusercontent.com/IamShivamJaiswal/OCR_metadata_extraction/master/samp_2/samp_fmi_2-3.png\n",
        "!wget https://raw.githubusercontent.com/IamShivamJaiswal/OCR_metadata_extraction/master/samp_1/samp_fmi_1-3.png"
      ],
      "execution_count": 4,
      "outputs": [
        {
          "output_type": "stream",
          "text": [
            "--2020-01-20 03:48:19--  https://raw.githubusercontent.com/IamShivamJaiswal/OCR_metadata_extraction/master/samp_2/samp_fmi_2-3.png\n",
            "Resolving raw.githubusercontent.com (raw.githubusercontent.com)... 151.101.0.133, 151.101.64.133, 151.101.128.133, ...\n",
            "Connecting to raw.githubusercontent.com (raw.githubusercontent.com)|151.101.0.133|:443... connected.\n",
            "HTTP request sent, awaiting response... 200 OK\n",
            "Length: 217025 (212K) [image/png]\n",
            "Saving to: ‘samp_fmi_2-3.png’\n",
            "\n",
            "\rsamp_fmi_2-3.png      0%[                    ]       0  --.-KB/s               \rsamp_fmi_2-3.png    100%[===================>] 211.94K  --.-KB/s    in 0.04s   \n",
            "\n",
            "2020-01-20 03:48:19 (5.12 MB/s) - ‘samp_fmi_2-3.png’ saved [217025/217025]\n",
            "\n",
            "--2020-01-20 03:48:21--  https://raw.githubusercontent.com/IamShivamJaiswal/OCR_metadata_extraction/master/samp_1/samp_fmi_1-3.png\n",
            "Resolving raw.githubusercontent.com (raw.githubusercontent.com)... 151.101.0.133, 151.101.64.133, 151.101.128.133, ...\n",
            "Connecting to raw.githubusercontent.com (raw.githubusercontent.com)|151.101.0.133|:443... connected.\n",
            "HTTP request sent, awaiting response... 200 OK\n",
            "Length: 503734 (492K) [image/png]\n",
            "Saving to: ‘samp_fmi_1-3.png’\n",
            "\n",
            "samp_fmi_1-3.png    100%[===================>] 491.93K  --.-KB/s    in 0.06s   \n",
            "\n",
            "2020-01-20 03:48:21 (7.60 MB/s) - ‘samp_fmi_1-3.png’ saved [503734/503734]\n",
            "\n"
          ],
          "name": "stdout"
        }
      ]
    },
    {
      "cell_type": "markdown",
      "metadata": {
        "id": "NyK28WzBFnrh",
        "colab_type": "text"
      },
      "source": [
        "## Function to compress the word list "
      ]
    },
    {
      "cell_type": "code",
      "metadata": {
        "id": "a_N0CWFE-uoM",
        "colab_type": "code",
        "colab": {}
      },
      "source": [
        "def compress_word_list(word_list):\n",
        "    #print(word_list)\n",
        "    i = 0\n",
        "    while i < len(word_list):\n",
        "        if len(word_list[i]) <=1 :\n",
        "            del word_list[i]\n",
        "        if i>=1 and word_list[i][0]==\"(\":\n",
        "            word_list[i-1]+=\" \"+word_list[i]\n",
        "            del word_list[i]\n",
        "        else:\n",
        "            i+=1\n",
        "    #print(word_list)\n",
        "    return word_list"
      ],
      "execution_count": 0,
      "outputs": []
    },
    {
      "cell_type": "markdown",
      "metadata": {
        "id": "PVPsh3pUFtDx",
        "colab_type": "text"
      },
      "source": [
        "## Function to extract the text in given box"
      ]
    },
    {
      "cell_type": "code",
      "metadata": {
        "id": "QUl0vgjYCue6",
        "colab_type": "code",
        "colab": {}
      },
      "source": [
        "def extract_text(img,point_list):\n",
        "    word_list = []\n",
        "    #print(len(point_list))\n",
        "    if len(point_list)==0:\n",
        "        return []\n",
        "    i = 0\n",
        "    if (len(point_list)==1):\n",
        "        words = pytesseract.image_to_string(img[:,point_list[i]:img.shape[1],:])\n",
        "        words = words.replace(\"\\n\\n\",\" \")\n",
        "#         print(words)\n",
        "#         plt.imshow(img[:,point_list[i]:img.shape[1],:])\n",
        "#         plt.show()\n",
        "        if len(words):\n",
        "            temp_word_list = words.split(\" \")\n",
        "            word_list.extend(compress_word_list(temp_word_list))\n",
        "    else:\n",
        "        for i in range(0,len(point_list)-1):\n",
        "            words = pytesseract.image_to_string(img[:,point_list[i]:point_list[i+1],:])\n",
        "            words = words.replace(\"\\n\",\" \")\n",
        "#             print(words)\n",
        "#             plt.imshow(img[:,point_list[i]:point_list[i+1],:])\n",
        "#             plt.show()\n",
        "            if len(words):\n",
        "                temp_word_list = words.split(\" \")\n",
        "                word_list.extend(compress_word_list(temp_word_list))\n",
        "        else:\n",
        "            words = pytesseract.image_to_string(img[:,point_list[i+1]:img.shape[1],:])\n",
        "            words = words.replace(\"\\n\",\" \")\n",
        "#             print(words)\n",
        "#             plt.imshow(img[:,point_list[i+1]:img.shape[1],:])\n",
        "#             plt.show()\n",
        "            if len(words):\n",
        "                temp_word_list = words.split(\" \")\n",
        "                word_list.extend(compress_word_list(temp_word_list))\n",
        "    return word_list"
      ],
      "execution_count": 0,
      "outputs": []
    },
    {
      "cell_type": "markdown",
      "metadata": {
        "id": "7Le0ZKIrF2JV",
        "colab_type": "text"
      },
      "source": [
        "## Function to draw line to visualize the boundary"
      ]
    },
    {
      "cell_type": "code",
      "metadata": {
        "id": "qXZpuxNkCvxw",
        "colab_type": "code",
        "colab": {}
      },
      "source": [
        "def draw_line(img,point_list,kind = \"horizontal\",color =(0,0,0),thickness=1):\n",
        "    if kind == \"horizontal\":\n",
        "        for x in point_list:\n",
        "            cv2.line(img,(0,x),(img.shape[0],x),color,thickness)\n",
        "    elif kind == \"vertical\":\n",
        "        for x in point_list:\n",
        "            cv2.line(img,(x,0),(x,img.shape[1]),color,thickness)\n",
        "    else :\n",
        "        print(\"Invalid type\")"
      ],
      "execution_count": 0,
      "outputs": []
    },
    {
      "cell_type": "markdown",
      "metadata": {
        "id": "vx6CXUuwF8OG",
        "colab_type": "text"
      },
      "source": [
        "## Function to get horizontal lines "
      ]
    },
    {
      "cell_type": "code",
      "metadata": {
        "id": "d7eR0-JDCxgk",
        "colab_type": "code",
        "colab": {}
      },
      "source": [
        "  def get_lines(img,kind = \"horizontal\",threshold_value=250,minimum_distance=40):\n",
        "    if kind == \"horizontal\":\n",
        "        hist = np.sum(img,axis=1)\n",
        "        hist = hist/img.shape[1]\n",
        "    else:\n",
        "        hist = np.sum(img,axis=0)\n",
        "        hist = hist/img.shape[0]\n",
        "    filter_value = hist>threshold_value\n",
        "    filter_list  = np.where(filter_value)[0]\n",
        "    #print(filter_list)\n",
        "    compress_list = []\n",
        "    temp_list = []\n",
        "    for i  in filter_list:\n",
        "        if len(temp_list)==0:\n",
        "            temp_list.append(i)\n",
        "        elif i == temp_list[-1]+1:\n",
        "            temp_list.append(i)\n",
        "        else:\n",
        "            compress_list.append(np.mean(temp_list))\n",
        "            if len(compress_list)>2 and compress_list[-1]-compress_list[-2]<minimum_distance:\n",
        "                del compress_list[-1]\n",
        "            if kind != \"horizontal\" and len(temp_list) < 20:\n",
        "                del compress_list[-1]\n",
        "            temp_list = []\n",
        "    compress_list  = list(map(math.ceil,compress_list))\n",
        "    return compress_list"
      ],
      "execution_count": 0,
      "outputs": []
    },
    {
      "cell_type": "markdown",
      "metadata": {
        "id": "bSB3sIHDGChN",
        "colab_type": "text"
      },
      "source": [
        "## Image path"
      ]
    },
    {
      "cell_type": "code",
      "metadata": {
        "id": "zVlV0gqSCzAd",
        "colab_type": "code",
        "colab": {}
      },
      "source": [
        "path_1 = \"samp_fmi_2-3.png\"\n",
        "path_2 = \"samp_fmi_1-3.png\"\n",
        "path = path_2"
      ],
      "execution_count": 0,
      "outputs": []
    },
    {
      "cell_type": "markdown",
      "metadata": {
        "id": "DAxfC_AEGE9t",
        "colab_type": "text"
      },
      "source": [
        "## Conditional statement to handle alpha channel if present in the image"
      ]
    },
    {
      "cell_type": "code",
      "metadata": {
        "id": "108xt7QxC3iT",
        "colab_type": "code",
        "colab": {}
      },
      "source": [
        "img = cv2.imread(path,-1)\n",
        "if img.shape[2]==3:\n",
        "    gray_img = cv2.cvtColor(img,cv2.COLOR_BGR2GRAY)\n",
        "else:\n",
        "    rgba = Image.fromarray(img).convert('RGBA')\n",
        "    background = Image.new('RGBA', rgba.size, (255,255,255))\n",
        "    alpha_composite = Image.alpha_composite(background, rgba)\n",
        "    img = np.array(alpha_composite,dtype=np.uint8)[:,:,:3].copy()\n",
        "    gray_img = cv2.cvtColor(img,cv2.COLOR_RGB2GRAY)"
      ],
      "execution_count": 0,
      "outputs": []
    },
    {
      "cell_type": "markdown",
      "metadata": {
        "id": "BSV7ogcSGLV8",
        "colab_type": "text"
      },
      "source": [
        "## Getting all the horizontal point list"
      ]
    },
    {
      "cell_type": "code",
      "metadata": {
        "id": "EWaqv706C5QD",
        "colab_type": "code",
        "colab": {}
      },
      "source": [
        "point_x_list = get_lines(gray_img)"
      ],
      "execution_count": 0,
      "outputs": []
    },
    {
      "cell_type": "markdown",
      "metadata": {
        "id": "3MJYixwnGR2v",
        "colab_type": "text"
      },
      "source": [
        "## Logic for seperation of assayed gene list vs genes tested"
      ]
    },
    {
      "cell_type": "code",
      "metadata": {
        "id": "72O7-RzdC63O",
        "colab_type": "code",
        "colab": {}
      },
      "source": [
        "alteration_tag,rearrangement_tag = False,False\n",
        "def list_seperation_logic(word_list,n,alteration_list,rearrangement_list):\n",
        "    #print(\"*\"*10,n,word_list)\n",
        "    \n",
        "    global alteration_tag,rearrangement_tag\n",
        "    if list !=type(word_list):\n",
        "        return []    \n",
        "    if(n>1 and alteration_tag):\n",
        "        alteration_list.extend(word_list)\n",
        "    if(n>1 and rearrangement_tag):\n",
        "        rearrangement_list.extend(word_list)\n",
        "    if \"ALTERATIONS\" in list(map(str.upper,word_list)):\n",
        "        alteration_tag = True\n",
        "    if n==1 and rearrangement_tag:\n",
        "        rearrangement_tag =  False \n",
        "    if \"REARRANGEMENTS\" in list(map(str.upper,word_list)):\n",
        "        alteration_tag = False\n",
        "        rearrangement_tag = True\n",
        "    #print(alteration_tag,rearrangement_tag)\n",
        "      "
      ],
      "execution_count": 0,
      "outputs": []
    },
    {
      "cell_type": "markdown",
      "metadata": {
        "id": "fH8MOAA6Gc4E",
        "colab_type": "text"
      },
      "source": [
        "## Moving inside the horizontal image to identify the indiviual boxes"
      ]
    },
    {
      "cell_type": "code",
      "metadata": {
        "id": "MLEEYKTiC8uY",
        "colab_type": "code",
        "outputId": "77180d53-888e-4dba-da8c-9e48f942cc3c",
        "colab": {
          "base_uri": "https://localhost:8080/",
          "height": 34
        }
      },
      "source": [
        "alteration_list,rearrangement_list = [],[]\n",
        "for i in tqdm(range(len(point_x_list)-1)):\n",
        "    point_y_list = get_lines(gray_img[point_x_list[i]:point_x_list[i+1],:],kind=\"vertical\")\n",
        "    #if len(point_y_list) >=2:\n",
        "    draw_line(img[point_x_list[i]:point_x_list[i+1],:,:],point_y_list,kind=\"vertical\")\n",
        "    text_list = extract_text(img[point_x_list[i]:point_x_list[i+1],:,:],point_y_list)\n",
        "    list_seperation_logic(text_list,len(point_y_list),alteration_list,rearrangement_list)"
      ],
      "execution_count": 13,
      "outputs": [
        {
          "output_type": "stream",
          "text": [
            "100%|██████████| 53/53 [00:45<00:00,  1.91it/s]\n"
          ],
          "name": "stderr"
        }
      ]
    },
    {
      "cell_type": "markdown",
      "metadata": {
        "id": "M-k3BiYvGkAy",
        "colab_type": "text"
      },
      "source": [
        "## Converting all into the .csv file"
      ]
    },
    {
      "cell_type": "code",
      "metadata": {
        "id": "EAc8_IvHC-tZ",
        "colab_type": "code",
        "colab": {}
      },
      "source": [
        "series = pd.Series([\"\",\"Gene Assayed\"]+alteration_list+[\"\",\"Genes tested for rearrangement\"]+rearrangement_list)\n",
        "data = pd.DataFrame({\"Gene Reposrt List\":series})\n",
        "data.to_csv(\"output.csv\",index=None)"
      ],
      "execution_count": 0,
      "outputs": []
    },
    {
      "cell_type": "markdown",
      "metadata": {
        "id": "y2IgZmGBGqX-",
        "colab_type": "text"
      },
      "source": [
        "## View Output file"
      ]
    },
    {
      "cell_type": "code",
      "metadata": {
        "id": "QxY6n9qQDLVr",
        "colab_type": "code",
        "outputId": "64d1e73b-6552-4381-d15b-6ebaeee012ba",
        "colab": {
          "base_uri": "https://localhost:8080/",
          "height": 1000
        }
      },
      "source": [
        "%cat output.csv"
      ],
      "execution_count": 15,
      "outputs": [
        {
          "output_type": "stream",
          "text": [
            "Gene Reposrt List\n",
            "\"\"\n",
            "Gene Assayed\n",
            "ABL1\n",
            "ABL2\n",
            "ACVR1B\n",
            "AKT1\n",
            "AKT2\n",
            "AKT3\n",
            "ALK\n",
            "AMER1 (FAM123B)\n",
            "APC\n",
            "AR\n",
            "ARAF\n",
            "ARFRP1\n",
            "ARID1A\n",
            "ARID1B\n",
            "ARID2\n",
            "ASXL1\n",
            "ATM\n",
            "ATR\n",
            "ATRX\n",
            "AURKA\n",
            "AURKB\n",
            "AXIN1\n",
            "AXL\n",
            "BAP1\n",
            "BARD1\n",
            "BCL2\n",
            "BCL2L1\n",
            "BCL2L2\n",
            "BCL6\n",
            "BCOR\n",
            "BCORL1\n",
            "BLM\n",
            "BRAF\n",
            "BRCA1\n",
            "BRCA2\n",
            "BRD4\n",
            "BRIP1\n",
            "BIG1\n",
            "BTK\n",
            "C11orf30 (EMSY)\n",
            "CARD11\n",
            "CBFB\n",
            "CBL\n",
            "CCND1\n",
            "CCND2\n",
            "CCND3\n",
            "CCNE1\n",
            "CD274\n",
            "CD79A\n",
            "CD79B\n",
            "CDC73\n",
            "CDH1\n",
            "CDK12\n",
            "CDK4\n",
            "CDK6\n",
            "CDK8\n",
            "CDKN1A\n",
            "CDKN1B\n",
            "CDKN2A\n",
            "CDKN2B\n",
            "CDKN2C\n",
            "CEBPA\n",
            "CHD2\n",
            "CHD4\n",
            "CHEK1\n",
            "CHEK2\n",
            "cic\n",
            "CREBBP\n",
            "CRKL\n",
            "CRLF2\n",
            "CSF1R\n",
            "CTCF\n",
            "CTNNA1\n",
            "CTNNB1\n",
            "CUL3\n",
            "CYLD\n",
            "DAXX\n",
            "DDR2\n",
            "DICER1\n",
            "DNMT3A\n",
            "DOTAL\n",
            "EGFR\n",
            "EP300\n",
            "EPHA3\n",
            "EPHA5S\n",
            "EPHA7\n",
            "EPHB1\n",
            "ERBB2\n",
            "ERBB3\n",
            "ERBB4\n",
            "ERG\n",
            "ERRFI1\n",
            "ESR1\n",
            "EZH2\n",
            "FAM46C\n",
            "FANCA\n",
            "FANCC\n",
            "FANCD2\n",
            "FANCE\n",
            "FANCF\n",
            "FANCG\n",
            "FANCL\n",
            "FAS\n",
            "FAT1\n",
            "FBXW7\n",
            "FGF10\n",
            "FGF14\n",
            "FGF19\n",
            "FGF23\n",
            "FGF3\n",
            "FGF4\n",
            "FGF6\n",
            "FGFR1\n",
            "FGFR2\n",
            "FGFR3\n",
            "FGFR4\n",
            "FH\n",
            "FLCN\n",
            "FLT1\n",
            "FLT3\n",
            "FLTA\n",
            "FOXL2\n",
            "FOXP1\n",
            "FRS2\n",
            "FUBP1\n",
            "GABRA6\n",
            "GATA1\n",
            "GATA2\n",
            "GATA3\n",
            "GATA4\n",
            "GATA6\n",
            "GID4 (C17orf39)\n",
            "GLI1\n",
            "GNA11\n",
            "GNA13\n",
            "GNAQ\n",
            "GNAS\n",
            "GPR124\n",
            "GRIN2A\n",
            "GRM3\n",
            "GSK3B\n",
            "H3F3A\n",
            "HGF\n",
            "HNF1A\n",
            "HRAS\n",
            "HSD3B1\n",
            "HSP9OAA1\n",
            "IDH1\n",
            "IDH2\n",
            "IGF1R\n",
            "IGF2\n",
            "IKBKE\n",
            "IKZF1\n",
            "IL7R\n",
            "INHBA\n",
            "INPP4B\n",
            "IRF2\n",
            "IRF4\n",
            "IRS2\n",
            "JAK1\n",
            "JAK2\n",
            "JAK3\n",
            "JUN\n",
            "KAT6A (MYST3)\n",
            "KDMSA\n",
            "KDM5C\n",
            "KDM6A\n",
            "KDR\n",
            "KEAP1\n",
            "KEL\n",
            "KIT\n",
            "KLHL6\n",
            "KMT2A (MLL)\n",
            "KMT2C(MLL3)\n",
            "KMT2D(MLL2)\n",
            "KRAS\n",
            "LMO1\n",
            "LRP1B\n",
            "LYN\n",
            "LZTR1\n",
            "MAGI2\n",
            "MAP2K1\n",
            "MAP2kK2\n",
            "MAP2k4\n",
            "MAP3K1\n",
            "MCL1\n",
            "MDM2\n",
            "MDM4\n",
            "MED12\n",
            "MEF2B\n",
            "MEN1\n",
            "MET\n",
            "MITF\n",
            "MLH1\n",
            "MPL\n",
            "MRE11A\n",
            "MSH2\n",
            "MSH6\n",
            "MTOR\n",
            "MUTYH\n",
            "MYC\n",
            "MYCL (MYCL1)\n",
            "MYCN\n",
            "MYD88\n",
            "NF1\n",
            "NF2\n",
            "NFE2L2\n",
            "NFKBIA\n",
            "NKX2-1\n",
            "NOTCH1\n",
            "NOTCH2\n",
            "NOTCH3\n",
            "NPM1\n",
            "NRAS\n",
            "NSD1\n",
            "NTRK1\n",
            "NTRK2\n",
            "NTRK3\n",
            "NUP93\n",
            "PAK3\n",
            "PALB2\n",
            "PARK2\n",
            "PAX5\n",
            "PBRM1\n",
            "PDCD1LG2\n",
            "PDGFRA\n",
            "PDGFRB\n",
            "PDK1\n",
            "PIK3C2B\n",
            "PIK3CA\n",
            "PIK3CB\n",
            "PIK3CG\n",
            "PIK3R1\n",
            "PIK3R2\n",
            "PLCG2\n",
            "PMS2\n",
            "POLD1\n",
            "POLE\n",
            "PPP2R1A\n",
            "PRDM1\n",
            "PREX2\n",
            "PRKAR1A\n",
            "PRKCI\n",
            "PRKDC\n",
            "PRSS8&\n",
            "PTCH1\n",
            "PTEN\n",
            "PTPN11\n",
            "Qk!\n",
            "RAC1\n",
            "RAD50\n",
            "RAD51\n",
            "RAF1\n",
            "RANBP2\n",
            "RARA\n",
            "RB1\n",
            "RBM10\n",
            "RET\n",
            "RICTOR\n",
            "RNF43\n",
            "ROS1\n",
            "RPTOR\n",
            "RUNX1\n",
            "RUNX1T1\n",
            "SDHA\n",
            "SDHB\n",
            "SDHC\n",
            "SDHD\n",
            "SETD2\n",
            "SF3B1\n",
            "SLIT2Z\n",
            "SMAD2\n",
            "SMAD3\n",
            "SMAD4\n",
            "SMARCA4\n",
            "SMARCB1\n",
            "SMO\n",
            "SNCAIP\n",
            "SOCS1\n",
            "SOX10\n",
            "SOX2\n",
            "SOX9\n",
            "SPEN\n",
            "SPOP\n",
            "SPTA1\n",
            "SRC\n",
            "STAG2\n",
            "STAT3\n",
            "STAT4\n",
            "STK11\n",
            "SUFU\n",
            "SYK\n",
            "TAF1\n",
            "TBX3\n",
            "TERC\n",
            "TERT (promoter\n",
            "only)\n",
            "TET2\n",
            "TGFBR2\n",
            "TNFAIP3\n",
            "TNFRSF14\n",
            "TOP1\n",
            "TOP2A\n",
            "TP53\n",
            "TSC1\n",
            "TSC2\n",
            "TSHR\n",
            "U2AF1\n",
            "VEGFA\n",
            "VHL\n",
            "WISP3\n",
            "WT1\n",
            "XPO1\n",
            "ZBTB2\n",
            "ZNF217\n",
            "ZNF703\n",
            "\"\"\n",
            "Genes tested for rearrangement\n",
            "ALK\n",
            "BCL2\n",
            "BCR\n",
            "BRAF\n",
            "BRCA1\n",
            "BRCA2\n",
            "BRD4\n",
            "EGFR\n",
            "ETV1\n",
            "ETV4\n",
            "ETV5\n",
            "ETV6\n",
            "FGFR1\n",
            "FGFR2\n",
            "FGFR3\n",
            "KIT\n",
            "MSH2\n",
            "MYB\n",
            "MYC\n",
            "NOTCH2\n",
            "NTRK1\n",
            "NTRK2\n",
            "PDGFRA\n",
            "RAF1\n",
            "RARA\n",
            "RET\n",
            "ROS1\n",
            "TMPRSS2\n"
          ],
          "name": "stdout"
        }
      ]
    },
    {
      "cell_type": "markdown",
      "metadata": {
        "id": "lX93PIJVDYoS",
        "colab_type": "text"
      },
      "source": [
        "# Extracting Report Date"
      ]
    },
    {
      "cell_type": "code",
      "metadata": {
        "id": "yKuCnNCB8XSG",
        "colab_type": "code",
        "colab": {
          "base_uri": "https://localhost:8080/",
          "height": 391
        },
        "outputId": "15067fe3-46c8-49b5-d6aa-d0978ddf1c95"
      },
      "source": [
        "!wget https://raw.githubusercontent.com/IamShivamJaiswal/OCR_metadata_extraction/master/samp_2/samp_fmi_2-0.png\n",
        "!wget https://raw.githubusercontent.com/IamShivamJaiswal/OCR_metadata_extraction/master/samp_1/samp_fmi_1-0.png"
      ],
      "execution_count": 16,
      "outputs": [
        {
          "output_type": "stream",
          "text": [
            "--2020-01-20 03:49:11--  https://raw.githubusercontent.com/IamShivamJaiswal/OCR_metadata_extraction/master/samp_2/samp_fmi_2-0.png\n",
            "Resolving raw.githubusercontent.com (raw.githubusercontent.com)... 151.101.0.133, 151.101.64.133, 151.101.128.133, ...\n",
            "Connecting to raw.githubusercontent.com (raw.githubusercontent.com)|151.101.0.133|:443... connected.\n",
            "HTTP request sent, awaiting response... 200 OK\n",
            "Length: 166354 (162K) [image/png]\n",
            "Saving to: ‘samp_fmi_2-0.png.1’\n",
            "\n",
            "\rsamp_fmi_2-0.png.1    0%[                    ]       0  --.-KB/s               \rsamp_fmi_2-0.png.1  100%[===================>] 162.46K  --.-KB/s    in 0.03s   \n",
            "\n",
            "2020-01-20 03:49:11 (4.66 MB/s) - ‘samp_fmi_2-0.png.1’ saved [166354/166354]\n",
            "\n",
            "--2020-01-20 03:49:12--  https://raw.githubusercontent.com/IamShivamJaiswal/OCR_metadata_extraction/master/samp_1/samp_fmi_1-0.png\n",
            "Resolving raw.githubusercontent.com (raw.githubusercontent.com)... 151.101.0.133, 151.101.64.133, 151.101.128.133, ...\n",
            "Connecting to raw.githubusercontent.com (raw.githubusercontent.com)|151.101.0.133|:443... connected.\n",
            "HTTP request sent, awaiting response... 200 OK\n",
            "Length: 424764 (415K) [image/png]\n",
            "Saving to: ‘samp_fmi_1-0.png.1’\n",
            "\n",
            "samp_fmi_1-0.png.1  100%[===================>] 414.81K  --.-KB/s    in 0.04s   \n",
            "\n",
            "2020-01-20 03:49:13 (9.99 MB/s) - ‘samp_fmi_1-0.png.1’ saved [424764/424764]\n",
            "\n"
          ],
          "name": "stdout"
        }
      ]
    },
    {
      "cell_type": "code",
      "metadata": {
        "id": "dAW4yXc28rip",
        "colab_type": "code",
        "colab": {}
      },
      "source": [
        "img  = cv2.imread(\"samp_fmi_2-0.png\",-1)\n",
        "#img = cv2.imread(\"samp_fmi_1-0.png\",-1)\n",
        "if img.shape[2]==3:\n",
        "    pass\n",
        "else:\n",
        "    rgba = Image.fromarray(img).convert('RGBA')\n",
        "    background = Image.new('RGBA', rgba.size, (255,255,255))\n",
        "    alpha_composite = Image.alpha_composite(background, rgba)\n",
        "    img = np.array(alpha_composite,dtype=np.uint8)[:,:,:3].copy()\n",
        "    #gray_img = cv2.cvtColor(img,cv2.COLOR_RGB2GRAY)"
      ],
      "execution_count": 0,
      "outputs": []
    },
    {
      "cell_type": "code",
      "metadata": {
        "id": "AIpFlB-Q8egU",
        "colab_type": "code",
        "colab": {}
      },
      "source": [
        "pd = pytesseract.image_to_data(img,output_type=\"data.frame\")"
      ],
      "execution_count": 0,
      "outputs": []
    },
    {
      "cell_type": "code",
      "metadata": {
        "id": "rntUOFUJ85wn",
        "colab_type": "code",
        "colab": {}
      },
      "source": [
        "pd[\"uppercase_text\"] = list(map(lambda x: str.upper(x) if type(x)==str else x ,pd[\"text\"]))"
      ],
      "execution_count": 0,
      "outputs": []
    },
    {
      "cell_type": "code",
      "metadata": {
        "id": "AbsnUSv388OG",
        "colab_type": "code",
        "colab": {}
      },
      "source": [
        "pd_filter = pd[pd[\"uppercase_text\"].isin([\"REPORT\",\"DATE\"])]"
      ],
      "execution_count": 0,
      "outputs": []
    },
    {
      "cell_type": "code",
      "metadata": {
        "id": "1qMgDuqg-S7G",
        "colab_type": "code",
        "colab": {
          "base_uri": "https://localhost:8080/",
          "height": 203
        },
        "outputId": "e61803d4-31b0-461a-b112-858c5fa212eb"
      },
      "source": [
        "x = \"\"\n",
        "for i in range(pd_filter.shape[0]-1):\n",
        "  if pd_filter[\"uppercase_text\"][pd_filter.index[i]]==\"REPORT\" and  pd_filter[\"uppercase_text\"][pd_filter.index[i+1]]==\"DATE\":\n",
        "    x = min(pd_filter[\"top\"][pd_filter.index[i]],pd_filter[\"top\"][pd_filter.index[i+1]]) -10\n",
        "    h = max(pd_filter[\"height\"][pd_filter.index[i]],pd_filter[\"height\"][pd_filter.index[i+1]])*4+x +20\n",
        "    y = min(pd_filter[\"left\"][pd_filter.index[i]],pd_filter[\"left\"][pd_filter.index[i+1]]) -10 \n",
        "    w = pd_filter[\"width\"][pd_filter.index[i+1]]+ pd_filter[\"left\"][pd_filter.index[i+1]] + 20\n",
        "    plt.imshow(img[x:h,y:w,:])\n",
        "    x = pytesseract.image_to_string(img[x:h,y:w,:])\n",
        "    x = x.split(\"\\n\\n\")\n",
        "    if len(x)==2:\n",
        "      print(x[0] ,\" : \",x[1])\n",
        "    else:\n",
        "      print(\"Report Date not found\")"
      ],
      "execution_count": 21,
      "outputs": [
        {
          "output_type": "stream",
          "text": [
            "REPORT DATE  :  01 Jan 2018\n"
          ],
          "name": "stdout"
        },
        {
          "output_type": "display_data",
          "data": {
            "image/png": "[encoded data removed]",
            "text/plain": [
              "<Figure size 432x288 with 1 Axes>"
            ]
          },
          "metadata": {
            "tags": []
          }
        }
      ]
    }
  ]
}